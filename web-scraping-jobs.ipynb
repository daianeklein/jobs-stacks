{
 "cells": [
  {
   "cell_type": "markdown",
   "id": "c59c711d",
   "metadata": {},
   "source": [
    "# WEB SCRAPING"
   ]
  },
  {
   "cell_type": "code",
   "execution_count": null,
   "id": "884da0f7",
   "metadata": {},
   "outputs": [],
   "source": []
  },
  {
   "cell_type": "markdown",
   "id": "9b779325",
   "metadata": {},
   "source": [
    "# LIB'S"
   ]
  },
  {
   "cell_type": "code",
   "execution_count": 2,
   "id": "f60fecaa",
   "metadata": {
    "ExecuteTime": {
     "end_time": "2021-10-08T14:00:04.440691Z",
     "start_time": "2021-10-08T14:00:03.985818Z"
    }
   },
   "outputs": [],
   "source": [
    "import bs4\n",
    "import urllib.request as urllib_request\n",
    "from urllib.request import Request, urlopen\n",
    "from urllib.error import URLError, HTTPError\n",
    "\n",
    "import pandas as pd\n",
    "from datetime import date\n",
    "import numpy as np\n",
    "\n",
    "from bs4 import BeautifulSoup"
   ]
  },
  {
   "cell_type": "code",
   "execution_count": 130,
   "id": "141d9412",
   "metadata": {
    "ExecuteTime": {
     "end_time": "2021-10-09T00:26:22.443519Z",
     "start_time": "2021-10-09T00:26:22.439266Z"
    }
   },
   "outputs": [],
   "source": [
    "response = ''\n",
    "headers = {'User-Agent': 'Mozilla/5.0 (Windows NT 10.0; Win64; x64) AppleWebKit/537.36 (KHTML, like Gecko) Chrome/76.0.3809.100 Safari/537.36'}\n",
    "    "
   ]
  },
  {
   "cell_type": "code",
   "execution_count": 116,
   "id": "83749bd6",
   "metadata": {
    "ExecuteTime": {
     "end_time": "2021-10-09T00:24:36.128057Z",
     "start_time": "2021-10-09T00:24:35.582394Z"
    }
   },
   "outputs": [],
   "source": [
    "req = Request(response, headers = headers)\n",
    "page = urlopen(req)\n",
    "soup = BeautifulSoup(page)\n"
   ]
  },
  {
   "cell_type": "code",
   "execution_count": 117,
   "id": "946e5dcf",
   "metadata": {
    "ExecuteTime": {
     "end_time": "2021-10-09T00:24:36.473933Z",
     "start_time": "2021-10-09T00:24:36.470921Z"
    }
   },
   "outputs": [],
   "source": [
    "#soup"
   ]
  },
  {
   "cell_type": "code",
   "execution_count": 119,
   "id": "ecea2ada",
   "metadata": {
    "ExecuteTime": {
     "end_time": "2021-10-09T00:24:41.926115Z",
     "start_time": "2021-10-09T00:24:41.922714Z"
    }
   },
   "outputs": [],
   "source": [
    "#print(soup.prettify())"
   ]
  },
  {
   "cell_type": "code",
   "execution_count": 120,
   "id": "f0d734ce",
   "metadata": {
    "ExecuteTime": {
     "end_time": "2021-10-09T00:24:43.824311Z",
     "start_time": "2021-10-09T00:24:43.820754Z"
    }
   },
   "outputs": [],
   "source": [
    "# ID\n",
    "#soup.findAll('class', {'li' : 'data-gtm-dimension-37'}):\n",
    "\n",
    "#\"descricao\":\"\\u003cli\\u003e\n",
    "#u003c/li\\u003e\",\"perfilId\""
   ]
  },
  {
   "cell_type": "code",
   "execution_count": 121,
   "id": "b234e85f",
   "metadata": {
    "ExecuteTime": {
     "end_time": "2021-10-09T00:24:44.366065Z",
     "start_time": "2021-10-09T00:24:44.356411Z"
    }
   },
   "outputs": [
    {
     "name": "stdout",
     "output_type": "stream",
     "text": [
      "Buscas relacionadas a dados\n",
      "Analista de Dados\n",
      "Administrador de Dados\n",
      "Engenheiro de Dados\n",
      "Analista de Dados\n",
      "Engenheiro(a) de Dados\n",
      "Engenheiro de Dados\n",
      "Cientista de Dados\n",
      "Engenheiro de Dados\n",
      "Analista de Dados\n",
      "Analista de Dados\n",
      "Analista de Dados\n",
      "Cientista de Dados\n",
      "Engenheiro de Dados\n",
      "Engenheiro de Dados\n",
      "Cientista de Dados II\n",
      "Analista de Dados\n",
      "Engenheiro de Dados\n",
      "Cientista de Dados\n",
      "Engenheiro de Dados\n",
      "Arquiteto de Dados\n"
     ]
    }
   ],
   "source": [
    "# nome da vaga\n",
    "for t in soup.findAll('h2', {'class' : 'Title__Heading-sc-14fvmc0-0'}):\n",
    "        print(t.get_text())"
   ]
  },
  {
   "cell_type": "code",
   "execution_count": 129,
   "id": "437f3818",
   "metadata": {
    "ExecuteTime": {
     "end_time": "2021-10-09T00:26:10.495763Z",
     "start_time": "2021-10-09T00:26:10.492848Z"
    }
   },
   "outputs": [],
   "source": [
    "#for t in soup.findAll('span', {'class' : 'job-description'}):\n",
    "#        print(t.get_text())"
   ]
  },
  {
   "cell_type": "code",
   "execution_count": 122,
   "id": "824180a0",
   "metadata": {
    "ExecuteTime": {
     "end_time": "2021-10-09T00:24:51.449277Z",
     "start_time": "2021-10-09T00:24:51.436590Z"
    }
   },
   "outputs": [],
   "source": [
    "job_title = []\n",
    "job_description = []\n",
    "\n",
    "for t in soup.findAll('h2', {'class' : 'Title__Heading-sc-14fvmc0-0'}):\n",
    "        job_title.append(t.get_text())\n",
    "        \n",
    "for d in soup.findAll('span', {'class' : 'job-description'}):\n",
    "        job_description.append(d.get_text())"
   ]
  },
  {
   "cell_type": "code",
   "execution_count": 123,
   "id": "8335e209",
   "metadata": {
    "ExecuteTime": {
     "end_time": "2021-10-09T00:24:51.732455Z",
     "start_time": "2021-10-09T00:24:51.725730Z"
    }
   },
   "outputs": [
    {
     "data": {
      "text/plain": [
       "['Buscas relacionadas a dados',\n",
       " 'Analista de Dados',\n",
       " 'Administrador de Dados',\n",
       " 'Engenheiro de Dados',\n",
       " 'Analista de Dados',\n",
       " 'Engenheiro(a) de Dados',\n",
       " 'Engenheiro de Dados',\n",
       " 'Cientista de Dados',\n",
       " 'Engenheiro de Dados',\n",
       " 'Analista de Dados',\n",
       " 'Analista de Dados',\n",
       " 'Analista de Dados',\n",
       " 'Cientista de Dados',\n",
       " 'Engenheiro de Dados',\n",
       " 'Engenheiro de Dados',\n",
       " 'Cientista de Dados II',\n",
       " 'Analista de Dados',\n",
       " 'Engenheiro de Dados',\n",
       " 'Cientista de Dados',\n",
       " 'Engenheiro de Dados',\n",
       " 'Arquiteto de Dados']"
      ]
     },
     "execution_count": 123,
     "metadata": {},
     "output_type": "execute_result"
    }
   ],
   "source": [
    "job_title"
   ]
  },
  {
   "cell_type": "code",
   "execution_count": 126,
   "id": "1f4c936a",
   "metadata": {
    "ExecuteTime": {
     "end_time": "2021-10-09T00:25:05.976671Z",
     "start_time": "2021-10-09T00:25:05.962050Z"
    }
   },
   "outputs": [
    {
     "data": {
      "text/html": [
       "<div>\n",
       "<style scoped>\n",
       "    .dataframe tbody tr th:only-of-type {\n",
       "        vertical-align: middle;\n",
       "    }\n",
       "\n",
       "    .dataframe tbody tr th {\n",
       "        vertical-align: top;\n",
       "    }\n",
       "\n",
       "    .dataframe thead th {\n",
       "        text-align: right;\n",
       "    }\n",
       "</style>\n",
       "<table border=\"1\" class=\"dataframe\">\n",
       "  <thead>\n",
       "    <tr style=\"text-align: right;\">\n",
       "      <th></th>\n",
       "      <th>0_x</th>\n",
       "      <th>0_y</th>\n",
       "    </tr>\n",
       "  </thead>\n",
       "  <tbody>\n",
       "    <tr>\n",
       "      <th>1</th>\n",
       "      <td>Analista de Dados</td>\n",
       "      <td>Criar modelo de dados conceitual, lógico e fí...</td>\n",
       "    </tr>\n",
       "    <tr>\n",
       "      <th>2</th>\n",
       "      <td>Administrador de Dados</td>\n",
       "      <td>Analisar, criar e implantar juntamente com o ...</td>\n",
       "    </tr>\n",
       "    <tr>\n",
       "      <th>3</th>\n",
       "      <td>Engenheiro de Dados</td>\n",
       "      <td>Sobre a Sottelli:\\n\\nSomos uma empresa de con...</td>\n",
       "    </tr>\n",
       "    <tr>\n",
       "      <th>4</th>\n",
       "      <td>Analista de Dados</td>\n",
       "      <td>Engenheiro(a) de Dados deve ser capaz de cria...</td>\n",
       "    </tr>\n",
       "    <tr>\n",
       "      <th>5</th>\n",
       "      <td>Engenheiro(a) de Dados</td>\n",
       "      <td>Profissional que gerencia, otimiza, superviso...</td>\n",
       "    </tr>\n",
       "    <tr>\n",
       "      <th>6</th>\n",
       "      <td>Engenheiro de Dados</td>\n",
       "      <td>Cientista de Dados\\r\\nLocal: Campo Bom/RS\\r\\n...</td>\n",
       "    </tr>\n",
       "    <tr>\n",
       "      <th>7</th>\n",
       "      <td>Cientista de Dados</td>\n",
       "      <td>Construir e operacionalizar sistemas de proce...</td>\n",
       "    </tr>\n",
       "    <tr>\n",
       "      <th>8</th>\n",
       "      <td>Engenheiro de Dados</td>\n",
       "      <td>Modelar a arquitetura de soluções para data w...</td>\n",
       "    </tr>\n",
       "    <tr>\n",
       "      <th>9</th>\n",
       "      <td>Analista de Dados</td>\n",
       "      <td>??? Essa vaga é para você que quer fazer part...</td>\n",
       "    </tr>\n",
       "    <tr>\n",
       "      <th>10</th>\n",
       "      <td>Analista de Dados</td>\n",
       "      <td>Gerar e analisar dados através de métricas e ...</td>\n",
       "    </tr>\n",
       "    <tr>\n",
       "      <th>11</th>\n",
       "      <td>Analista de Dados</td>\n",
       "      <td>Desenvolver modelos matemáticos que suportem ...</td>\n",
       "    </tr>\n",
       "    <tr>\n",
       "      <th>12</th>\n",
       "      <td>Cientista de Dados</td>\n",
       "      <td>Atuar na construção de ETLs e automação do ma...</td>\n",
       "    </tr>\n",
       "    <tr>\n",
       "      <th>13</th>\n",
       "      <td>Engenheiro de Dados</td>\n",
       "      <td>Como será o seu dia a dia: . Participação na ...</td>\n",
       "    </tr>\n",
       "    <tr>\n",
       "      <th>14</th>\n",
       "      <td>Engenheiro de Dados</td>\n",
       "      <td>??? Somos amantes da inovação, investimos em ...</td>\n",
       "    </tr>\n",
       "    <tr>\n",
       "      <th>15</th>\n",
       "      <td>Cientista de Dados II</td>\n",
       "      <td>Descrição da empresa\\n\\n\\n\\n\\nFundada em 2012...</td>\n",
       "    </tr>\n",
       "    <tr>\n",
       "      <th>16</th>\n",
       "      <td>Analista de Dados</td>\n",
       "      <td>A ARMAC é a maior empresa de locação de máqui...</td>\n",
       "    </tr>\n",
       "    <tr>\n",
       "      <th>17</th>\n",
       "      <td>Engenheiro de Dados</td>\n",
       "      <td>QUEM SOMOSExistimos para tornar acessíveis os...</td>\n",
       "    </tr>\n",
       "    <tr>\n",
       "      <th>18</th>\n",
       "      <td>Cientista de Dados</td>\n",
       "      <td>Conhecimentos em SQL Database. Conhecimentos ...</td>\n",
       "    </tr>\n",
       "    <tr>\n",
       "      <th>19</th>\n",
       "      <td>Engenheiro de Dados</td>\n",
       "      <td>Atuar com com modelagem dimensional. SSAS ava...</td>\n",
       "    </tr>\n",
       "  </tbody>\n",
       "</table>\n",
       "</div>"
      ],
      "text/plain": [
       "                       0_x                                                0_y\n",
       "1        Analista de Dados   Criar modelo de dados conceitual, lógico e fí...\n",
       "2   Administrador de Dados   Analisar, criar e implantar juntamente com o ...\n",
       "3      Engenheiro de Dados   Sobre a Sottelli:\\n\\nSomos uma empresa de con...\n",
       "4        Analista de Dados   Engenheiro(a) de Dados deve ser capaz de cria...\n",
       "5   Engenheiro(a) de Dados   Profissional que gerencia, otimiza, superviso...\n",
       "6      Engenheiro de Dados   Cientista de Dados\\r\\nLocal: Campo Bom/RS\\r\\n...\n",
       "7       Cientista de Dados   Construir e operacionalizar sistemas de proce...\n",
       "8      Engenheiro de Dados   Modelar a arquitetura de soluções para data w...\n",
       "9        Analista de Dados   ??? Essa vaga é para você que quer fazer part...\n",
       "10       Analista de Dados   Gerar e analisar dados através de métricas e ...\n",
       "11       Analista de Dados   Desenvolver modelos matemáticos que suportem ...\n",
       "12      Cientista de Dados   Atuar na construção de ETLs e automação do ma...\n",
       "13     Engenheiro de Dados   Como será o seu dia a dia: . Participação na ...\n",
       "14     Engenheiro de Dados   ??? Somos amantes da inovação, investimos em ...\n",
       "15   Cientista de Dados II   Descrição da empresa\\n\\n\\n\\n\\nFundada em 2012...\n",
       "16       Analista de Dados   A ARMAC é a maior empresa de locação de máqui...\n",
       "17     Engenheiro de Dados   QUEM SOMOSExistimos para tornar acessíveis os...\n",
       "18      Cientista de Dados   Conhecimentos em SQL Database. Conhecimentos ...\n",
       "19     Engenheiro de Dados   Atuar com com modelagem dimensional. SSAS ava..."
      ]
     },
     "execution_count": 126,
     "metadata": {},
     "output_type": "execute_result"
    }
   ],
   "source": [
    "a = pd.DataFrame(job_title)[1:]\n",
    "b = pd.DataFrame(job_description)\n",
    "\n",
    "df = a.merge(b, left_index = True, right_index = True)\n",
    "df"
   ]
  },
  {
   "cell_type": "code",
   "execution_count": 112,
   "id": "f5362452",
   "metadata": {
    "ExecuteTime": {
     "end_time": "2021-10-09T00:23:59.444977Z",
     "start_time": "2021-10-09T00:23:59.428862Z"
    }
   },
   "outputs": [],
   "source": [
    "job_description = []\n",
    "\n",
    "for d in soup.findAll('div', {'button' : ''}):\n",
    "        job_description.append(d.get_text())\n",
    "        \n"
   ]
  },
  {
   "cell_type": "code",
   "execution_count": 128,
   "id": "deffbd3f",
   "metadata": {
    "ExecuteTime": {
     "end_time": "2021-10-09T00:25:54.711643Z",
     "start_time": "2021-10-09T00:25:54.708011Z"
    }
   },
   "outputs": [],
   "source": [
    "#job_description"
   ]
  },
  {
   "cell_type": "code",
   "execution_count": null,
   "id": "c08f4cc6",
   "metadata": {},
   "outputs": [],
   "source": []
  }
 ],
 "metadata": {
  "kernelspec": {
   "display_name": "ds-projects",
   "language": "python",
   "name": "ds-projects"
  },
  "language_info": {
   "codemirror_mode": {
    "name": "ipython",
    "version": 3
   },
   "file_extension": ".py",
   "mimetype": "text/x-python",
   "name": "python",
   "nbconvert_exporter": "python",
   "pygments_lexer": "ipython3",
   "version": "3.9.7"
  },
  "toc": {
   "base_numbering": 1,
   "nav_menu": {},
   "number_sections": true,
   "sideBar": true,
   "skip_h1_title": false,
   "title_cell": "Table of Contents",
   "title_sidebar": "Contents",
   "toc_cell": false,
   "toc_position": {},
   "toc_section_display": true,
   "toc_window_display": false
  }
 },
 "nbformat": 4,
 "nbformat_minor": 5
}
