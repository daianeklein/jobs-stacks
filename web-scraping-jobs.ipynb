{
 "cells": [
  {
   "cell_type": "markdown",
   "id": "c59c711d",
   "metadata": {},
   "source": [
    "# WEB SCRAPING"
   ]
  },
  {
   "cell_type": "code",
   "execution_count": null,
   "id": "884da0f7",
   "metadata": {},
   "outputs": [],
   "source": []
  },
  {
   "cell_type": "markdown",
   "id": "9b779325",
   "metadata": {},
   "source": [
    "# LIB'S"
   ]
  },
  {
   "cell_type": "code",
   "execution_count": null,
   "id": "f60fecaa",
   "metadata": {
    "ExecuteTime": {
     "end_time": "2021-10-10T01:00:15.915238Z",
     "start_time": "2021-10-10T01:00:15.906987Z"
    }
   },
   "outputs": [],
   "source": [
    "import bs4\n",
    "import urllib.request as urllib_request\n",
    "from urllib.request import Request, urlopen\n",
    "from urllib.error import URLError, HTTPError\n",
    "\n",
    "import pandas as pd\n",
    "from datetime import date\n",
    "import numpy as np\n",
    "\n",
    "from bs4 import BeautifulSoup\n",
    "\n",
    "import spacy\n",
    "import string\n",
    "import re\n",
    "\n",
    "from wordcloud import WordCloud\n",
    "import matplotlib.pyplot as plt\n",
    "\n",
    "from spacy.matcher import PhraseMatcher\n",
    "from IPython.core.display import HTML\n",
    "import unidecode"
   ]
  },
  {
   "cell_type": "code",
   "execution_count": null,
   "id": "141d9412",
   "metadata": {
    "ExecuteTime": {
     "end_time": "2021-10-09T19:26:40.654997Z",
     "start_time": "2021-10-09T19:26:40.651086Z"
    }
   },
   "outputs": [],
   "source": [
    "response = ''\n",
    "headers = {'User-Agent': 'Mozilla/5.0 (Windows NT 10.0; Win64; x64) AppleWebKit/537.36 (KHTML, like Gecko) Chrome/76.0.3809.100 Safari/537.36'}\n",
    "    "
   ]
  },
  {
   "cell_type": "code",
   "execution_count": null,
   "id": "83749bd6",
   "metadata": {
    "ExecuteTime": {
     "end_time": "2021-10-09T19:26:42.852448Z",
     "start_time": "2021-10-09T19:26:41.539908Z"
    }
   },
   "outputs": [],
   "source": [
    "req = Request(response, headers = headers)\n",
    "page = urlopen(req)\n",
    "soup = BeautifulSoup(page)\n"
   ]
  },
  {
   "cell_type": "code",
   "execution_count": null,
   "id": "946e5dcf",
   "metadata": {
    "ExecuteTime": {
     "end_time": "2021-10-09T19:26:42.858581Z",
     "start_time": "2021-10-09T19:26:42.855325Z"
    }
   },
   "outputs": [],
   "source": [
    "#soup"
   ]
  },
  {
   "cell_type": "code",
   "execution_count": null,
   "id": "ecea2ada",
   "metadata": {
    "ExecuteTime": {
     "end_time": "2021-10-09T19:26:42.864582Z",
     "start_time": "2021-10-09T19:26:42.861366Z"
    }
   },
   "outputs": [],
   "source": [
    "#print(soup.prettify())"
   ]
  },
  {
   "cell_type": "code",
   "execution_count": null,
   "id": "b234e85f",
   "metadata": {
    "ExecuteTime": {
     "end_time": "2021-10-09T19:26:43.617738Z",
     "start_time": "2021-10-09T19:26:43.608381Z"
    }
   },
   "outputs": [],
   "source": [
    "# nome da vaga\n",
    "for t in soup.findAll('h2', {'class' : 'Title__Heading-sc-14fvmc0-0'}):\n",
    "        print(t.get_text())"
   ]
  },
  {
   "cell_type": "code",
   "execution_count": null,
   "id": "437f3818",
   "metadata": {
    "ExecuteTime": {
     "end_time": "2021-10-09T19:26:44.361103Z",
     "start_time": "2021-10-09T19:26:44.357048Z"
    }
   },
   "outputs": [],
   "source": [
    "#for t in soup.findAll('span', {'class' : 'job-description'}):\n",
    "#        print(t.get_text())"
   ]
  },
  {
   "cell_type": "code",
   "execution_count": null,
   "id": "824180a0",
   "metadata": {
    "ExecuteTime": {
     "end_time": "2021-10-09T19:26:45.368003Z",
     "start_time": "2021-10-09T19:26:45.353819Z"
    }
   },
   "outputs": [],
   "source": [
    "job_title = []\n",
    "job_description = []\n",
    "\n",
    "for t in soup.findAll('h2', {'class' : 'Title__Heading-sc-14fvmc0-0'}):\n",
    "        job_title.append(t.get_text())\n",
    "        \n",
    "for d in soup.findAll('span', {'class' : 'job-description'}):\n",
    "        job_description.append(d.get_text())"
   ]
  },
  {
   "cell_type": "code",
   "execution_count": null,
   "id": "8335e209",
   "metadata": {
    "ExecuteTime": {
     "end_time": "2021-10-09T19:26:47.492260Z",
     "start_time": "2021-10-09T19:26:47.479804Z"
    }
   },
   "outputs": [],
   "source": [
    "job_title"
   ]
  },
  {
   "cell_type": "code",
   "execution_count": null,
   "id": "1f4c936a",
   "metadata": {
    "ExecuteTime": {
     "end_time": "2021-10-09T19:26:48.704224Z",
     "start_time": "2021-10-09T19:26:48.684546Z"
    }
   },
   "outputs": [],
   "source": [
    "a = pd.DataFrame(job_title)[1:]\n",
    "b = pd.DataFrame(job_description)\n",
    "\n",
    "df = a.merge(b, left_index = True, right_index = True)\n",
    "df"
   ]
  },
  {
   "cell_type": "code",
   "execution_count": null,
   "id": "f5362452",
   "metadata": {
    "ExecuteTime": {
     "end_time": "2021-10-09T19:26:50.026292Z",
     "start_time": "2021-10-09T19:26:50.010920Z"
    }
   },
   "outputs": [],
   "source": [
    "job_description = []\n",
    "\n",
    "for d in soup.findAll('div', {'button' : ''}):\n",
    "        job_description.append(d.get_text())\n",
    "        \n"
   ]
  },
  {
   "cell_type": "code",
   "execution_count": null,
   "id": "deffbd3f",
   "metadata": {
    "ExecuteTime": {
     "end_time": "2021-10-09T19:26:50.981637Z",
     "start_time": "2021-10-09T19:26:50.978166Z"
    }
   },
   "outputs": [],
   "source": [
    "#job_description"
   ]
  },
  {
   "cell_type": "code",
   "execution_count": null,
   "id": "c08f4cc6",
   "metadata": {
    "ExecuteTime": {
     "end_time": "2021-10-09T19:26:51.418518Z",
     "start_time": "2021-10-09T19:26:51.403883Z"
    }
   },
   "outputs": [],
   "source": [
    "job_description"
   ]
  },
  {
   "cell_type": "code",
   "execution_count": null,
   "id": "f0d734ce",
   "metadata": {
    "ExecuteTime": {
     "end_time": "2021-10-09T19:26:43.140187Z",
     "start_time": "2021-10-09T19:26:43.134969Z"
    }
   },
   "outputs": [],
   "source": [
    "# ID\n",
    "#soup.findAll('class', {'li' : 'data-gtm-dimension-37'}):\n",
    "\n",
    "#\"descricao\":\"\\u003cli\\u003e\n",
    "#u003c/li\\u003e\",\"perfilId\""
   ]
  },
  {
   "cell_type": "code",
   "execution_count": null,
   "id": "fc304944",
   "metadata": {
    "ExecuteTime": {
     "end_time": "2021-10-09T19:28:33.951409Z",
     "start_time": "2021-10-09T19:28:33.945206Z"
    }
   },
   "outputs": [],
   "source": [
    "full_description = []\n",
    "\n"
   ]
  },
  {
   "cell_type": "code",
   "execution_count": null,
   "id": "f189008c",
   "metadata": {
    "ExecuteTime": {
     "end_time": "2021-10-09T20:16:28.639527Z",
     "start_time": "2021-10-09T20:16:28.572613Z"
    }
   },
   "outputs": [],
   "source": [
    "print(soup.prettify())\n"
   ]
  },
  {
   "cell_type": "code",
   "execution_count": null,
   "id": "eb60cfe6",
   "metadata": {
    "ExecuteTime": {
     "end_time": "2021-10-09T20:16:57.807458Z",
     "start_time": "2021-10-09T20:16:57.800168Z"
    }
   },
   "outputs": [],
   "source": [
    "soup.find('script id')"
   ]
  },
  {
   "cell_type": "code",
   "execution_count": null,
   "id": "77dfa637",
   "metadata": {
    "ExecuteTime": {
     "end_time": "2021-10-09T20:19:24.061647Z",
     "start_time": "2021-10-09T20:19:24.053454Z"
    }
   },
   "outputs": [],
   "source": [
    "data = json.loads(soup.find('script', type='application/json').text)\n"
   ]
  },
  {
   "cell_type": "code",
   "execution_count": null,
   "id": "66f46ec1",
   "metadata": {
    "ExecuteTime": {
     "end_time": "2021-10-09T20:25:29.288393Z",
     "start_time": "2021-10-09T20:25:29.208558Z"
    }
   },
   "outputs": [],
   "source": [
    "data"
   ]
  },
  {
   "cell_type": "markdown",
   "id": "77aee313",
   "metadata": {},
   "source": [
    "# DICIONÁRIO"
   ]
  },
  {
   "cell_type": "code",
   "execution_count": null,
   "id": "350af891",
   "metadata": {
    "ExecuteTime": {
     "end_time": "2021-10-09T20:51:40.581616Z",
     "start_time": "2021-10-09T20:51:40.565741Z"
    }
   },
   "outputs": [],
   "source": [
    "# titulo\n",
    "data['props']['pageProps']['jobSearch']['jobSearchResult']['data']['jobs'][0]['job_customized_data']['titulo']"
   ]
  },
  {
   "cell_type": "code",
   "execution_count": null,
   "id": "c049a726",
   "metadata": {
    "ExecuteTime": {
     "end_time": "2021-10-09T20:51:19.713454Z",
     "start_time": "2021-10-09T20:51:19.676048Z"
    }
   },
   "outputs": [],
   "source": [
    "# descricao\n",
    "data['props']['pageProps']['jobSearch']['jobSearchResult']['data']['jobs'][0]['job_customized_data']['descricao']"
   ]
  },
  {
   "cell_type": "code",
   "execution_count": null,
   "id": "62f7b094",
   "metadata": {
    "ExecuteTime": {
     "end_time": "2021-10-09T20:52:50.254849Z",
     "start_time": "2021-10-09T20:52:50.247412Z"
    }
   },
   "outputs": [],
   "source": [
    "# titulo\n",
    "data['props']['pageProps']['jobSearch']['jobSearchResult']['data']['jobs'][1]['job_customized_data']['titulo']"
   ]
  },
  {
   "cell_type": "code",
   "execution_count": null,
   "id": "24e9ae31",
   "metadata": {
    "ExecuteTime": {
     "end_time": "2021-10-09T20:52:55.750772Z",
     "start_time": "2021-10-09T20:52:55.735182Z"
    }
   },
   "outputs": [],
   "source": [
    "# descricao\n",
    "data['props']['pageProps']['jobSearch']['jobSearchResult']['data']['jobs'][1]['job_customized_data']['descricao']"
   ]
  },
  {
   "cell_type": "code",
   "execution_count": null,
   "id": "a9d0f473",
   "metadata": {
    "ExecuteTime": {
     "end_time": "2021-10-09T20:53:31.574455Z",
     "start_time": "2021-10-09T20:53:31.559413Z"
    }
   },
   "outputs": [],
   "source": [
    "# titulo\n",
    "data['props']['pageProps']['jobSearch']['jobSearchResult']['data']['jobs'][4]['job_customized_data']['titulo']"
   ]
  },
  {
   "cell_type": "code",
   "execution_count": null,
   "id": "f53e2acc",
   "metadata": {
    "ExecuteTime": {
     "end_time": "2021-10-09T20:53:34.466963Z",
     "start_time": "2021-10-09T20:53:34.450054Z"
    }
   },
   "outputs": [],
   "source": [
    "# descricao\n",
    "data['props']['pageProps']['jobSearch']['jobSearchResult']['data']['jobs'][4]['job_customized_data']['descricao']"
   ]
  },
  {
   "cell_type": "markdown",
   "id": "2bb166fb",
   "metadata": {},
   "source": [
    "# PART II"
   ]
  },
  {
   "cell_type": "code",
   "execution_count": null,
   "id": "ec8c2fd2",
   "metadata": {
    "ExecuteTime": {
     "end_time": "2021-10-09T20:56:09.008986Z",
     "start_time": "2021-10-09T20:56:07.371861Z"
    }
   },
   "outputs": [],
   "source": [
    "response = ''\n",
    "headers = {'User-Agent': 'Mozilla/5.0 (Windows NT 10.0; Win64; x64) AppleWebKit/537.36 (KHTML, like Gecko) Chrome/76.0.3809.100 Safari/537.36'}\n",
    "\n",
    "req = Request(response, headers = headers)\n",
    "page = urlopen(req)\n",
    "soup = BeautifulSoup(page)\n"
   ]
  },
  {
   "cell_type": "code",
   "execution_count": null,
   "id": "88ff36a5",
   "metadata": {
    "ExecuteTime": {
     "end_time": "2021-10-09T20:56:35.713849Z",
     "start_time": "2021-10-09T20:56:35.699778Z"
    }
   },
   "outputs": [],
   "source": [
    "data = json.loads(soup.find('script', type='application/json').text)"
   ]
  },
  {
   "cell_type": "code",
   "execution_count": null,
   "id": "4e8640e1",
   "metadata": {
    "ExecuteTime": {
     "end_time": "2021-10-09T21:02:30.440183Z",
     "start_time": "2021-10-09T21:02:30.426065Z"
    }
   },
   "outputs": [],
   "source": [
    "titulo = []\n",
    "descricao = []\n",
    "\n",
    "t = 0\n",
    "d = "
   ]
  },
  {
   "cell_type": "code",
   "execution_count": null,
   "id": "40dd6de6",
   "metadata": {
    "ExecuteTime": {
     "end_time": "2021-10-09T21:01:02.277551Z",
     "start_time": "2021-10-09T21:01:02.259956Z"
    }
   },
   "outputs": [],
   "source": [
    "# titulo\n",
    "data['props']['pageProps']['jobSearch']['jobSearchResult']['data']['jobs'][4]['job_customized_data']['titulo']"
   ]
  },
  {
   "cell_type": "code",
   "execution_count": null,
   "id": "2573d6c7",
   "metadata": {
    "ExecuteTime": {
     "end_time": "2021-10-09T21:02:32.165565Z",
     "start_time": "2021-10-09T21:02:32.157190Z"
    }
   },
   "outputs": [],
   "source": [
    "for t in range(0, 5):\n",
    "    titulo.append(data['props']['pageProps']['jobSearch']['jobSearchResult']['data']['jobs'][t]['job_customized_data']['titulo'])"
   ]
  },
  {
   "cell_type": "code",
   "execution_count": null,
   "id": "eb841b75",
   "metadata": {
    "ExecuteTime": {
     "end_time": "2021-10-09T21:02:32.664999Z",
     "start_time": "2021-10-09T21:02:32.658847Z"
    }
   },
   "outputs": [],
   "source": [
    "for d in range(0, 5):\n",
    "    descricao.append(data['props']['pageProps']['jobSearch']['jobSearchResult']['data']['jobs'][d]['job_customized_data']['descricao'])"
   ]
  },
  {
   "cell_type": "code",
   "execution_count": null,
   "id": "f8dfed60",
   "metadata": {
    "ExecuteTime": {
     "end_time": "2021-10-09T21:03:49.817448Z",
     "start_time": "2021-10-09T21:03:49.805004Z"
    }
   },
   "outputs": [],
   "source": [
    "titulo = pd.DataFrame(titulo)\n",
    "descricao = pd.DataFrame(descricao)"
   ]
  },
  {
   "cell_type": "code",
   "execution_count": null,
   "id": "72dd3e4b",
   "metadata": {
    "ExecuteTime": {
     "end_time": "2021-10-09T21:05:12.276451Z",
     "start_time": "2021-10-09T21:05:12.269742Z"
    }
   },
   "outputs": [],
   "source": [
    "df = titulo.merge(descricao, left_index = True, right_index = True)"
   ]
  },
  {
   "cell_type": "code",
   "execution_count": null,
   "id": "8f5df78f",
   "metadata": {
    "ExecuteTime": {
     "end_time": "2021-10-09T21:11:14.661196Z",
     "start_time": "2021-10-09T21:11:14.651243Z"
    }
   },
   "outputs": [],
   "source": [
    "df"
   ]
  },
  {
   "cell_type": "markdown",
   "id": "bcf1b9a8",
   "metadata": {},
   "source": [
    "# TOP 50 PAGES"
   ]
  },
  {
   "cell_type": "code",
   "execution_count": null,
   "id": "cd075068",
   "metadata": {
    "ExecuteTime": {
     "end_time": "2021-10-09T22:09:00.010435Z",
     "start_time": "2021-10-09T22:08:15.115092Z"
    }
   },
   "outputs": [],
   "source": [
    "titulo = []\n",
    "descricao = []\n",
    "\n",
    "for i in range(1, 50):\n",
    "    \n",
    "    response =  '' + str(i)\n",
    "    headers = {'User-Agent': 'Mozilla/5.0 (Windows NT 10.0; Win64; x64) AppleWebKit/537.36 (KHTML, like Gecko) Chrome/76.0.3809.100 Safari/537.36'}\n",
    "\n",
    "    req = Request(response, headers = headers)\n",
    "    page = urlopen(req)\n",
    "    soup = BeautifulSoup(page)\n",
    "\n",
    "    data = json.loads(soup.find('script', type='application/json').text)\n",
    "    \n",
    "    for t in range(0, 10):\n",
    "        titulo.append(data['props']['pageProps']['jobSearch']['jobSearchResult']['data']['jobs'][t]['job_customized_data']['titulo'])\n",
    "        \n",
    "    for d in range(0, 10):\n",
    "        descricao.append(data['props']['pageProps']['jobSearch']['jobSearchResult']['data']['jobs'][d]['job_customized_data']['descricao'])\n",
    "        \n",
    "    \n",
    "    "
   ]
  },
  {
   "cell_type": "code",
   "execution_count": null,
   "id": "1dc0cfb9",
   "metadata": {
    "ExecuteTime": {
     "end_time": "2021-10-09T21:41:44.853411Z",
     "start_time": "2021-10-09T21:41:44.830297Z"
    }
   },
   "outputs": [],
   "source": [
    "titulo"
   ]
  },
  {
   "cell_type": "code",
   "execution_count": null,
   "id": "b79d5035",
   "metadata": {
    "ExecuteTime": {
     "end_time": "2021-10-09T21:41:49.087029Z",
     "start_time": "2021-10-09T21:41:49.054182Z"
    }
   },
   "outputs": [],
   "source": [
    "descricao"
   ]
  },
  {
   "cell_type": "code",
   "execution_count": null,
   "id": "95893bb6",
   "metadata": {
    "ExecuteTime": {
     "end_time": "2021-10-09T22:09:00.027678Z",
     "start_time": "2021-10-09T22:09:00.013891Z"
    }
   },
   "outputs": [],
   "source": [
    "titulo = pd.DataFrame(titulo)\n",
    "descricao = pd.DataFrame(descricao)\n",
    "\n",
    "df = titulo.merge(descricao, left_index = True, right_index = True)"
   ]
  },
  {
   "cell_type": "code",
   "execution_count": null,
   "id": "15e178f9",
   "metadata": {
    "ExecuteTime": {
     "end_time": "2021-10-09T22:09:27.577530Z",
     "start_time": "2021-10-09T22:09:27.567973Z"
    }
   },
   "outputs": [],
   "source": [
    "cols = ['titulo_vaga', 'descricao_vaga']\n",
    "df.columns = cols\n",
    "\n",
    "df.head()"
   ]
  },
  {
   "cell_type": "markdown",
   "id": "ac24d16d",
   "metadata": {},
   "source": [
    "## PRE-PROCESSAMENTO"
   ]
  },
  {
   "cell_type": "code",
   "execution_count": null,
   "id": "1e504d28",
   "metadata": {
    "ExecuteTime": {
     "end_time": "2021-10-09T22:02:59.153391Z",
     "start_time": "2021-10-09T22:02:59.148511Z"
    }
   },
   "outputs": [],
   "source": [
    "#Spacy para portugues\n",
    "#!python -m spacy download pt"
   ]
  },
  {
   "cell_type": "code",
   "execution_count": null,
   "id": "9ec1c67e",
   "metadata": {
    "ExecuteTime": {
     "end_time": "2021-10-09T22:09:03.219999Z",
     "start_time": "2021-10-09T22:09:00.032500Z"
    }
   },
   "outputs": [],
   "source": [
    "pln = spacy.load('pt_core_news_sm')\n",
    "pln"
   ]
  },
  {
   "cell_type": "code",
   "execution_count": null,
   "id": "36eb292a",
   "metadata": {
    "ExecuteTime": {
     "end_time": "2021-10-09T22:35:30.711370Z",
     "start_time": "2021-10-09T22:35:30.706613Z"
    }
   },
   "outputs": [],
   "source": [
    "df1 = df.copy()"
   ]
  },
  {
   "cell_type": "code",
   "execution_count": null,
   "id": "11a0e3b8",
   "metadata": {
    "ExecuteTime": {
     "end_time": "2021-10-09T22:35:30.905283Z",
     "start_time": "2021-10-09T22:35:30.899431Z"
    }
   },
   "outputs": [],
   "source": [
    "# stop words\n",
    "stop_words = spacy.lang.pt.stop_words.STOP_WORDS\n",
    "print(stop_words)"
   ]
  },
  {
   "cell_type": "code",
   "execution_count": null,
   "id": "786ed5cc",
   "metadata": {
    "ExecuteTime": {
     "end_time": "2021-10-09T22:35:31.105254Z",
     "start_time": "2021-10-09T22:35:31.094291Z"
    }
   },
   "outputs": [],
   "source": [
    "len(stop_words)"
   ]
  },
  {
   "cell_type": "code",
   "execution_count": null,
   "id": "ef2afcad",
   "metadata": {
    "ExecuteTime": {
     "end_time": "2021-10-09T22:35:31.331619Z",
     "start_time": "2021-10-09T22:35:31.303887Z"
    }
   },
   "outputs": [],
   "source": [
    "df1['descricao_vaga'] = df1.descricao_vaga.str.replace('<li> ', ' ')\n",
    "df1['descricao_vaga'] = df1.descricao_vaga.str.replace('\\n', ' ')\n",
    "df1['descricao_vaga'] = df1.descricao_vaga.str.replace('  ', ' ')\n",
    "df1['descricao_vaga'] = df1.descricao_vaga.str.replace('\\r', ' ')\n",
    "df1['descricao_vaga'] = df1.descricao_vaga.str.replace('\\t', ' ')\n",
    "\n",
    "df1['descricao_vaga'] = df1.descricao_vaga.str.replace('</li', ' ')\n",
    "df1['descricao_vaga'] = df1.descricao_vaga.str.replace('\\xa0', ' ')\n",
    "df1['descricao_vaga'] = df1.descricao_vaga.str.replace(\" \\ \", ' ')"
   ]
  },
  {
   "cell_type": "code",
   "execution_count": null,
   "id": "01febea1",
   "metadata": {
    "ExecuteTime": {
     "end_time": "2021-10-09T22:35:31.495922Z",
     "start_time": "2021-10-09T22:35:31.484232Z"
    }
   },
   "outputs": [],
   "source": [
    "df1.sample(5)"
   ]
  },
  {
   "cell_type": "code",
   "execution_count": null,
   "id": "6c1b62f6",
   "metadata": {
    "ExecuteTime": {
     "end_time": "2021-10-09T22:35:31.683287Z",
     "start_time": "2021-10-09T22:35:31.677892Z"
    }
   },
   "outputs": [],
   "source": [
    "string.punctuation"
   ]
  },
  {
   "cell_type": "code",
   "execution_count": null,
   "id": "3e727ffe",
   "metadata": {
    "ExecuteTime": {
     "end_time": "2021-10-09T22:35:31.889199Z",
     "start_time": "2021-10-09T22:35:31.881925Z"
    }
   },
   "outputs": [],
   "source": [
    "def pre_processamento(texto):\n",
    "    texto = texto.lower()\n",
    "    \n",
    "    doc = pln(texto)\n",
    "    lista = []\n",
    "    \n",
    "    for token in doc:\n",
    "        lista.append(token.text) # 'tokenizacao'\n",
    "    \n",
    "    lista = [p for p in lista if p not in stop_words and p not in string.punctuation]\n",
    "    lista = ' '.join([str(e) for e in lista if not e.isdigit()])\n",
    "    \n",
    "    return lista\n",
    "\n"
   ]
  },
  {
   "cell_type": "code",
   "execution_count": null,
   "id": "4e7db632",
   "metadata": {
    "ExecuteTime": {
     "end_time": "2021-10-09T22:35:48.882433Z",
     "start_time": "2021-10-09T22:35:32.075328Z"
    }
   },
   "outputs": [],
   "source": [
    "df1['pre'] = df1['descricao_vaga'].apply(pre_processamento)"
   ]
  },
  {
   "cell_type": "code",
   "execution_count": null,
   "id": "dfd0b78f",
   "metadata": {
    "ExecuteTime": {
     "end_time": "2021-10-09T22:35:48.901917Z",
     "start_time": "2021-10-09T22:35:48.885321Z"
    }
   },
   "outputs": [],
   "source": [
    "df1.head(10)"
   ]
  },
  {
   "cell_type": "markdown",
   "id": "a6f7c70e",
   "metadata": {},
   "source": [
    "## NUVEM DE PALAVRAS"
   ]
  },
  {
   "cell_type": "code",
   "execution_count": null,
   "id": "7b6a1fff",
   "metadata": {
    "ExecuteTime": {
     "end_time": "2021-10-09T22:35:48.935335Z",
     "start_time": "2021-10-09T22:35:48.905323Z"
    },
    "scrolled": true
   },
   "outputs": [],
   "source": [
    "# to list\n",
    "descricao = df1['pre'].tolist()\n",
    "descricao[0:5]"
   ]
  },
  {
   "cell_type": "code",
   "execution_count": null,
   "id": "bfe8833f",
   "metadata": {
    "ExecuteTime": {
     "end_time": "2021-10-09T22:35:48.953136Z",
     "start_time": "2021-10-09T22:35:48.939602Z"
    },
    "scrolled": true
   },
   "outputs": [],
   "source": [
    "text_descricao = ' '.join(descricao)\n",
    "text_descricao"
   ]
  },
  {
   "cell_type": "code",
   "execution_count": null,
   "id": "f5fcb08e",
   "metadata": {
    "ExecuteTime": {
     "end_time": "2021-10-09T22:35:50.190136Z",
     "start_time": "2021-10-09T22:35:48.955847Z"
    }
   },
   "outputs": [],
   "source": [
    "text_descricao = ' '.join(descricao)\n",
    "plt.figure(figsize = (20, 12))\n",
    "plt.imshow(WordCloud().generate(text_descricao));"
   ]
  },
  {
   "cell_type": "markdown",
   "id": "ea71dea5",
   "metadata": {},
   "source": [
    "## PESQUISA TEXTO"
   ]
  },
  {
   "cell_type": "code",
   "execution_count": null,
   "id": "e7f61d23",
   "metadata": {
    "ExecuteTime": {
     "end_time": "2021-10-09T23:08:26.212349Z",
     "start_time": "2021-10-09T23:08:26.199793Z"
    }
   },
   "outputs": [],
   "source": [
    "string_busca = ['azure']\n",
    "list_token = [pln(i) for i in string_busca]\n",
    "matcher = PhraseMatcher(pln.vocab)\n",
    "matcher.add('SEARCH', None, * list_token)\n",
    "\n",
    "count_words = 10"
   ]
  },
  {
   "cell_type": "code",
   "execution_count": null,
   "id": "24b07e12",
   "metadata": {
    "ExecuteTime": {
     "end_time": "2021-10-09T23:16:04.455464Z",
     "start_time": "2021-10-09T23:15:51.600441Z"
    }
   },
   "outputs": [],
   "source": [
    "search_strings_html = ' '.join([str(e) for e in string_busca])\n",
    "\n",
    "for index, row in df1.iterrows():\n",
    "    market_text = ''\n",
    "    doc = pln(row['pre'])\n",
    "    ident = row.index\n",
    "    matches = matcher(doc)\n",
    "    \n",
    "    if matches == []:\n",
    "        continue\n",
    "        \n",
    "    display(HTML(f'<h2>{search_strings_html.upper()}</h2>'))\n",
    "    display(HTML(f\"\"\"\n",
    "                <p>\n",
    "                    <strong>ID: </strong>{ident}<br>))\n",
    "                    <strong>Palavras encontradas</strong> {len(matches)}\n",
    "                </p>\n",
    "            \"\"\"))\n",
    "    \n",
    "    for i in matches:\n",
    "        start = i[1] - count_words\n",
    "        if start < 0:\n",
    "            start = 0\n",
    "        for j in range(len(list_token)):\n",
    "            if doc[i[1]:i[2]].similarity(list_token[j]) == 1.0:\n",
    "                search_text = str(list_token[j])\n",
    "                market_text += str(doc[start:i[2] + count_words]).replace(search_text, \n",
    "                                                                         f\"<mark>{search_text}</mark>\")\n",
    "    display(HTML(f\"\"\"<blackquote>... {market_text} ...\"\"\"))"
   ]
  },
  {
   "cell_type": "markdown",
   "id": "72f09754",
   "metadata": {},
   "source": [
    "# DATA CLEANING"
   ]
  },
  {
   "cell_type": "code",
   "execution_count": null,
   "id": "92785aec",
   "metadata": {
    "ExecuteTime": {
     "end_time": "2021-10-09T23:20:08.011939Z",
     "start_time": "2021-10-09T23:20:08.002709Z"
    }
   },
   "outputs": [],
   "source": [
    "\n",
    "df1['titulo_vaga'].value_counts().tail(30)"
   ]
  },
  {
   "cell_type": "code",
   "execution_count": null,
   "id": "22d04144",
   "metadata": {
    "ExecuteTime": {
     "end_time": "2021-10-10T01:03:16.871733Z",
     "start_time": "2021-10-10T01:03:16.853980Z"
    }
   },
   "outputs": [],
   "source": [
    "remover = ['Analista Pleno',\n",
    "           'Técnico em Eletrônica Sênior',\n",
    "'Analista Contábil Sênior',\n",
    "'Consultor de Vendas -  Caieiras/SP',\n",
    "'Especialista CX',\n",
    "'Técnico de levantamento',\n",
    "'Consultor de Pré-Vendas',\n",
    "'Técnico de levantamento',\n",
    "'Consultor de Pré-Vendas',\n",
    "'Especialista CX',\n",
    "'Executivo Comercial',\n",
    "'Ajudante Geral',\n",
    "'Operador de Máquinas Mandrilhadoras',\n",
    "'Analista FP&A',\n",
    "'Supervisor Operacional de Dados (São Luís-MA)',\n",
    "'Gerente Clínica Dermatológica',\n",
    "'Analista de Assistência Técnica Sênior'\n",
    "'Desenvolvedor Python Backend'\n",
    "'Programador .NET',\n",
    "'Analista de Controles Internos',\n",
    "'Auxiliar Administrativo - Expedição',\n",
    "'Analista de Controle de Qualidade',\n",
    "'Desenvolvedor Python Backend',\n",
    "'Programador .NET',\n",
    "'Técnico de Infraestrutura Sênior',\n",
    "'Analista de Controle de Qualidade',\n",
    "'Recepcionista',\n",
    "'Sales Account Manager',\n",
    "'Assistente de Marketing',\n",
    "'Técnico de Enfermagem - Ressonância Magnética',\n",
    "'Faturista',\n",
    "'Analista de Pricing', 'Redator técnico mecânico',\n",
    "'Desenhista Projetista Júnior',\n",
    "'Assistente de Compras',                           \n",
    "'Estágio de Ensino Médio',                          \n",
    "'Estágio em Arquitetura',                          \n",
    "'Analista de Projetos Pleno', \n",
    "'Auxiliar de Topografia PCD',  \n",
    "'Analista Comercial (site keep 4043)',\n",
    "'Auxiliar de Expedição / Faturamento',            \n",
    "'Assistente de Rastreamento Veicular - Ferista',\n",
    "'Auxiliar de Engenharia', 'Engenheiro Mecânico',\n",
    " 'Técnico em Segurança do Trabalho', 'Eletrotécnico', 'Auxiliar de Controle de Qualidade Físico e Químico',\n",
    "           'Engenheiro de Aplicação', 'Estágio na área Financeira', 'Técnico de Cotações Pleno'\n",
    "           'Auxiliar de Atendimento/Recepção', 'Sales Development Representative (SDR) - Presencial',\n",
    "           'Revisor de Texto', 'Auxiliar Administrativo Comercial', 'Analista de Marketing Digital',\n",
    "           'Auxiliar Contábil', 'Instalador de TV a Cabo', 'Auxiliar Contábil', 'Auxiliar Comercial',\n",
    "           'Programador Python (Pleno e Junior)', 'Assistente de Logística', 'Técnico de Calibração Externa',\n",
    "           'Técnico de Cabeamento de Rede', 'Desenvolvedor Júnior', 'Analista Comercial', 'Encarregado de Instalações',\n",
    "           'Estágio em Manutenção Industrial', 'Desenvolvedor Sênior', 'Técnico em Enfermagem Pediátrico',\n",
    "           'Auxiliar de Atendimento/Recepção', 'Técnico em Enfermagem do Trabalho',\n",
    "           'Supervisor de Cidades (Canindé - CE)', 'Sales Ops Sênior', 'Auxiliar de Laboratório',\n",
    "           'ANALISTA DE PLANEJAMENTO COMERCIAL II', 'Auxiliar de Recursos Humanos', 'Analista de Suporte Computacional',\n",
    "           'Analista Contábil / Fiscal', 'Aux. Administrativo', 'Agente de Risco e Fraude', 'Técnico em Higiene Ocupacional',\n",
    "           'Analista de PCM', 'Analista Administrativo de Patrimônio', 'Estoquista', 'Analista de SEO II',\n",
    "           'Assistente Técnico de Edificações', 'Assistente de Faturamento'\n",
    "           'Analista de Processos' , 'Topógrafo', 'Engenheiro de Segurança do Trabalho SR',\n",
    "'Estágio em Engenharia de Energia - Operacional', 'Assistente de PCP',\n",
    "'Estágio em Eletrônica Industrial - Operacional'  , 'Executivo de Negócios',\n",
    "           'Contador', 'Gerente de Growth', 'Analista de Engenharia Elétrica', \n",
    "'Estágio em Engenharia Metalúrgica - Operacional' , 'Auxiliar de Engenharia Civil',\n",
    "           'Assistente de Automação', 'Analista de Custos', 'Auxiliar de Almoxarifado',\n",
    "           'Analista de Marketing', 'Analista de Controle de Qualidade Físico Químico',\n",
    "           'Analista de Mídia e Performance', 'Técnico em Instrumentação/Nivelador',\n",
    "'Programador Android', 'Especialista Splunk', 'Assistente (Gestão de voluntariado)',\n",
    "           'Analista Financeiro', 'Estagiário de Auditoria Interna (Centro - Fortaleze/CE)'\n",
    "          'Validador de Dados - Digitador', 'Oficial de Registro de Dados',\n",
    "          'Gerente de Vendas - Dados e Voz', 'Consultor de Pacotes: Plataforma de Dados',\n",
    "          'Assistente de Faturamento', 'Analista de Testes / QA Júnior',\n",
    "          'Gerente Financeiro', 'Analista de Planejamento Comercial',\n",
    "          'Gerente Financeiro',\n",
    "'Desenvolvedor Web',\n",
    "'Gerente de Contabilidade',\n",
    "'Analista Supply Chain Pleno',\n",
    "          'Analista Comercial - Caieiras/SP',\n",
    "'Analista Sênior',\n",
    "'ESTÁGIO (ALMOXARIFADO)',\n",
    "'Auxiliar de Operações Pleno]',\n",
    "           'Técnico de Validação', \n",
    "'Especialista / Estrategista Criativo de Conteúdo Sênior',\n",
    "'Estágio na área de Pesquisa de Mercado',\n",
    "'Engenheiro de Estruturas de Poços',\n",
    "'Analista Departamento Pessoal Junior',\n",
    "'Auxiliar Administrativo - Oncoprod',\n",
    "'ANALISTA DE MARKETING',\n",
    "           'Analista de Pesquisa e Desenvolvimento',\n",
    "'Customer eXperience',\n",
    "'Analista de Remuneração Sênior',\n",
    "'Especialista de Remuneração',\n",
    "'Executivo de Vendas',\n",
    "'Assistente Financeiro',\n",
    "'Técnico Suporte N2',\n",
    "'Pesquisa de Mercado',\n",
    "'Analista de Suporte Técnico',\n",
    "'Aprendiz na área de Recursos Humanos - Benefícios e processos de D',\n",
    "'Analista Programador Pleno',\n",
    "'Assistente de Vendas',\n",
    "'Estágio em Psicologia',\n",
    "'Assistente de Custos',\n",
    "'Técnico Contábil',\n",
    "'Consultor SAP SD ECC',\n",
    "'Almoxarife',\n",
    "'Auxiliar Administrativo - Estoque',\n",
    "'Coordenador de Marketing',\n",
    "'Estágio em Geografia',\n",
    "'Analista de Testes- QA',\n",
    "'Auxiliar de Controladoria',\n",
    "'Orçamentista',\n",
    "'Estágio em Gestão da Qualidade',\n",
    "'Analista de Gestão de Custos Pleno',\n",
    "'Vendedor de TI',\n",
    "'Gerente de Marketing',\n",
    "'Desenvolvedor C# Júnior',\n",
    "'Assistente Fiscal',\n",
    "'Desenhista Projetista',\n",
    "'Analista Técnico',\n",
    "'Assistente Operacional de projetos',\n",
    "'Auxiliar de Logística',\n",
    "'Operador de Telemarketing',\n",
    "'Conferente de Materiais',\n",
    "'Consultor(a) de Vendas',\n",
    "'ESTÁGIO CIÊNCIAS CONTÁBEIS',\n",
    "'ASSISTENTE DE VENDAS - PONTA GROSSA',\n",
    "'Pesquisador de Campo Rio de Janeiro',\n",
    "'Consultor de Vendas Externo',\n",
    "'Pesquisador de Campo Santos',\n",
    "'Analista de Desenvolvimento de Sistemas Jr.',\n",
    "'Motorista de Caminhão Pipa - Itabira',\n",
    "'Analista de Testes Sênior',\n",
    "'Auxiliar de Comércio Exterior',\n",
    "'Comercial BU',\n",
    "'Analista de Expansão de Lojas',\n",
    "'Analista Controladoria Senior',\n",
    "'Analista Administrativo',\n",
    "'TÉCNICO ELETRÔNICO',\n",
    "'Assistente de Segurança do Trabalho',\n",
    "'ESTAGIARIO 3 4 5 ANO -Enfermagem -Jundiai',\n",
    "'Auxiliar de Vendas Interno',\n",
    "'Técnico Jr. de Certificação',\n",
    "'Auxiliar de MArketing Digital',\n",
    "'Pesquisador de Campo São José do Rio Preto',\n",
    "'ASSISTENTE DE CONTROLE DE MANUTENÇÃO',\n",
    "'Assistente Administrativo',\n",
    "'Estagiário de comunicação e marketing',\n",
    "'Assistente Administrativo - Expedição',\n",
    "'Estágio na área de Desenvolvimento Sales Force',\n",
    "'Estágio em Publicidade e Propaganda',\n",
    "'Analista de Gestão de Custos Pleno - Administração de Vendas',    \n",
    "'ENFERMEIRA  (PROMOÇÃO E SAÚDE)',\n",
    "'Analista de Software A',\n",
    "'Analista de Qualidade Sênior',\n",
    "'Analista de Sistemas Sênior',\n",
    "'Auxiliar de Projetos',\n",
    "'Técnico em Enfermagem - Setor CTI',\n",
    "'Supervisor de Vendas',\n",
    "'Auxiliar de Gestão de Pessoas',\n",
    "'Analista de Negócios Pleno Pleno',\n",
    "'Analista de Sistemas Pleno',\n",
    "'Atendente, Analista de Assistência Técnica Sênior',\n",
    "'Encarregado de Almoxarifado',\n",
    "'Estágio em LDR',\n",
    "'Encarregado de Almoxarifado',\n",
    "'Arquiteto(a) de Projetos',\n",
    " 'Atendente',\n",
    "'Técnico em Enfermagem',\n",
    "'Estágio em Administração de Empresas',\n",
    "'Customer Success Manager Sênior',\n",
    "          'Analista de Suporte Sênior',\n",
    "        'Consultor de Vendas Voip/Dados',\n",
    "          'Entrevistador Implantador Mídia - Dados',\n",
    "'Assistente de Controle Qualidade Dados',\n",
    "          'Aprendiz na área de Recursos Humanos - Benefícios e processos de DP'\n",
    "          'ASSISTENTE CONTÁBIL',\n",
    "          'VALIDADOR DE DADOS - DIGITADOR',\n",
    "          'AUXILIAR DE OPERACOES PLENO','ANALISTA DE ABASTECIMENTO E PLANEJAMENTO'\n",
    "          ]"
   ]
  },
  {
   "cell_type": "code",
   "execution_count": null,
   "id": "73bfe7c2",
   "metadata": {
    "ExecuteTime": {
     "end_time": "2021-10-10T01:03:17.339876Z",
     "start_time": "2021-10-10T01:03:17.332681Z"
    }
   },
   "outputs": [],
   "source": [
    "df1 = df1.query('titulo_vaga not in @remover')"
   ]
  },
  {
   "cell_type": "code",
   "execution_count": null,
   "id": "487e1de3",
   "metadata": {
    "ExecuteTime": {
     "end_time": "2021-10-10T00:58:34.045754Z",
     "start_time": "2021-10-10T00:58:34.033361Z"
    }
   },
   "outputs": [],
   "source": [
    "for i in df1['titulo_vaga'].unique():\n",
    "    print(i)"
   ]
  },
  {
   "cell_type": "code",
   "execution_count": null,
   "id": "3680d0e8",
   "metadata": {
    "ExecuteTime": {
     "end_time": "2021-10-09T23:58:41.794645Z",
     "start_time": "2021-10-09T23:58:40.395191Z"
    }
   },
   "outputs": [],
   "source": [
    "# to list\n",
    "descricao = df1['pre'].tolist()\n",
    "text_descricao = ' '.join(descricao)\n",
    "plt.figure(figsize = (20, 12))\n",
    "plt.imshow(WordCloud().generate(text_descricao));"
   ]
  },
  {
   "cell_type": "code",
   "execution_count": null,
   "id": "4b4483be",
   "metadata": {
    "ExecuteTime": {
     "end_time": "2021-10-10T00:58:06.841362Z",
     "start_time": "2021-10-10T00:58:06.833256Z"
    }
   },
   "outputs": [],
   "source": [
    "df1['titulo_vaga'] = df1['titulo_vaga'].apply(lambda x: x.upper())\n",
    "df1['titulo_vaga'] = df1['titulo_vaga'].apply(lambda x: x.replace('SÊNIOR', 'SENIOR'))\n",
    "df1['titulo_vaga'] = df1['titulo_vaga'].apply(lambda x: x.replace('JÚNIOR', 'JUNIOR'))\n",
    "df1['titulo_vaga'] = df1['titulo_vaga'].apply(lambda x: x.replace('ESTAGIÁRIO', 'ESTAGIARIO')\n",
    "\n",
    "# acentos                                              \n",
    "df1['titulo_vaga'] = df1['titulo_vaga'].apply(lambda x: unidecode.unidecode(x)))"
   ]
  },
  {
   "cell_type": "code",
   "execution_count": null,
   "id": "020f2d51",
   "metadata": {
    "ExecuteTime": {
     "end_time": "2021-10-10T01:03:48.666531Z",
     "start_time": "2021-10-10T01:03:48.658336Z"
    }
   },
   "outputs": [],
   "source": [
    "df1['titulo_vaga'].value_counts().sample(10)"
   ]
  },
  {
   "cell_type": "code",
   "execution_count": null,
   "id": "f1513aa7",
   "metadata": {
    "ExecuteTime": {
     "end_time": "2021-10-10T01:04:39.815594Z",
     "start_time": "2021-10-10T01:04:39.811657Z"
    }
   },
   "outputs": [],
   "source": [
    "lis =[]\n",
    "for f in df1['titulo_vaga']:\n",
    "    lis.append(f.split(' '))"
   ]
  },
  {
   "cell_type": "code",
   "execution_count": null,
   "id": "32b94322",
   "metadata": {
    "ExecuteTime": {
     "end_time": "2021-10-10T01:05:36.711482Z",
     "start_time": "2021-10-10T01:05:36.689410Z"
    }
   },
   "outputs": [],
   "source": [
    "for i in lis:\n",
    "    print(i, len(i))"
   ]
  },
  {
   "cell_type": "code",
   "execution_count": null,
   "id": "11f99335",
   "metadata": {
    "ExecuteTime": {
     "end_time": "2021-10-10T01:07:46.661813Z",
     "start_time": "2021-10-10T01:07:46.641553Z"
    }
   },
   "outputs": [],
   "source": [
    "df1.to_csv('df1.csv', sep = ';', encoding = 'latin-1')"
   ]
  },
  {
   "cell_type": "code",
   "execution_count": null,
   "id": "11cc68d1",
   "metadata": {
    "ExecuteTime": {
     "end_time": "2021-10-10T01:08:16.737238Z",
     "start_time": "2021-10-10T01:08:16.724489Z"
    }
   },
   "outputs": [],
   "source": [
    "df1[['titulo_vaga', 'pre']]"
   ]
  },
  {
   "cell_type": "code",
   "execution_count": null,
   "id": "48f04737",
   "metadata": {},
   "outputs": [],
   "source": []
  }
 ],
 "metadata": {
  "kernelspec": {
   "display_name": "ds-projects",
   "language": "python",
   "name": "ds-projects"
  },
  "language_info": {
   "codemirror_mode": {
    "name": "ipython",
    "version": 3
   },
   "file_extension": ".py",
   "mimetype": "text/x-python",
   "name": "python",
   "nbconvert_exporter": "python",
   "pygments_lexer": "ipython3",
   "version": "3.9.7"
  },
  "toc": {
   "base_numbering": 1,
   "nav_menu": {},
   "number_sections": true,
   "sideBar": true,
   "skip_h1_title": false,
   "title_cell": "Table of Contents",
   "title_sidebar": "Contents",
   "toc_cell": false,
   "toc_position": {},
   "toc_section_display": true,
   "toc_window_display": false
  }
 },
 "nbformat": 4,
 "nbformat_minor": 5
}
