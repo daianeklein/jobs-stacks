{
 "cells": [
  {
   "cell_type": "markdown",
   "id": "53304661",
   "metadata": {},
   "source": [
    "# WEB SCRAPING AND DATA ANALYSIS"
   ]
  },
  {
   "cell_type": "markdown",
   "id": "f9efadf1",
   "metadata": {},
   "source": [
    "***\n",
    "\n",
    "📌 **THIS NOTEBOOK CONTAINS THE WEB SCRAPING CODE**\n",
    "\n",
    "(The website used to get data was hidden)\n",
    "\n",
    "***\n"
   ]
  },
  {
   "cell_type": "markdown",
   "id": "5d056457",
   "metadata": {},
   "source": [
    "## LIBS"
   ]
  },
  {
   "cell_type": "code",
   "execution_count": 1,
   "id": "071ab7f2",
   "metadata": {
    "ExecuteTime": {
     "end_time": "2021-10-12T18:47:12.934190Z",
     "start_time": "2021-10-12T18:47:10.789149Z"
    }
   },
   "outputs": [],
   "source": [
    "import bs4\n",
    "import urllib.request as urllib_request\n",
    "from urllib.request import Request, urlopen\n",
    "from urllib.error import URLError, HTTPError\n",
    "\n",
    "import pandas as pd\n",
    "from datetime import date\n",
    "import numpy as np\n",
    "import seaborn as sns\n",
    "\n",
    "from bs4 import BeautifulSoup\n",
    "\n",
    "import spacy\n",
    "import string\n",
    "import re\n",
    "\n",
    "from wordcloud import WordCloud\n",
    "import matplotlib.pyplot as plt\n",
    "\n",
    "from spacy.matcher import PhraseMatcher\n",
    "from IPython.core.display import HTML\n",
    "import unidecode"
   ]
  },
  {
   "cell_type": "code",
   "execution_count": null,
   "id": "083cf954",
   "metadata": {},
   "outputs": [],
   "source": [
    "response = ''\n",
    "headers = {'User-Agent': 'Mozilla/5.0 (Windows NT 10.0; Win64; x64) AppleWebKit/537.36 (KHTML, like Gecko) Chrome/76.0.3809.100 Safari/537.36'}\n",
    "    "
   ]
  },
  {
   "cell_type": "code",
   "execution_count": null,
   "id": "ff64feaa",
   "metadata": {},
   "outputs": [],
   "source": [
    "req = Request(response, headers = headers)\n",
    "page = urlopen(req)\n",
    "soup = BeautifulSoup(page)"
   ]
  },
  {
   "cell_type": "code",
   "execution_count": null,
   "id": "5be77ceb",
   "metadata": {},
   "outputs": [],
   "source": [
    "#print(soup.prettify())"
   ]
  },
  {
   "cell_type": "code",
   "execution_count": null,
   "id": "83fbb620",
   "metadata": {},
   "outputs": [],
   "source": [
    "job_title = []\n",
    "job_description = []\n",
    "\n",
    "for t in soup.findAll('h2', {'class' : 'Title__Heading-sc-14fvmc0-0'}):\n",
    "        job_title.append(t.get_text())\n",
    "        \n",
    "for d in soup.findAll('span', {'class' : 'job-description'}):\n",
    "        job_description.append(d.get_text())"
   ]
  },
  {
   "cell_type": "code",
   "execution_count": null,
   "id": "093cab63",
   "metadata": {},
   "outputs": [],
   "source": [
    "soup.find('script id')\n",
    "\n",
    "data = json.loads(soup.find('script', type='application/json').text)\n",
    "data"
   ]
  },
  {
   "cell_type": "markdown",
   "id": "1288cd5f",
   "metadata": {},
   "source": [
    "## DICTIONARY"
   ]
  },
  {
   "cell_type": "code",
   "execution_count": null,
   "id": "350af891",
   "metadata": {
    "ExecuteTime": {
     "end_time": "2021-10-09T20:51:40.581616Z",
     "start_time": "2021-10-09T20:51:40.565741Z"
    }
   },
   "outputs": [],
   "source": [
    "# titulo\n",
    "data['props']['pageProps']['jobSearch']['jobSearchResult']['data']['jobs'][0]['job_customized_data']['titulo']"
   ]
  },
  {
   "cell_type": "code",
   "execution_count": null,
   "id": "c049a726",
   "metadata": {
    "ExecuteTime": {
     "end_time": "2021-10-09T20:51:19.713454Z",
     "start_time": "2021-10-09T20:51:19.676048Z"
    }
   },
   "outputs": [],
   "source": [
    "# descricao\n",
    "data['props']['pageProps']['jobSearch']['jobSearchResult']['data']['jobs'][0]['job_customized_data']['descricao']"
   ]
  },
  {
   "cell_type": "code",
   "execution_count": null,
   "id": "62f7b094",
   "metadata": {
    "ExecuteTime": {
     "end_time": "2021-10-09T20:52:50.254849Z",
     "start_time": "2021-10-09T20:52:50.247412Z"
    }
   },
   "outputs": [],
   "source": [
    "# titulo\n",
    "data['props']['pageProps']['jobSearch']['jobSearchResult']['data']['jobs'][1]['job_customized_data']['titulo']"
   ]
  },
  {
   "cell_type": "code",
   "execution_count": null,
   "id": "24e9ae31",
   "metadata": {
    "ExecuteTime": {
     "end_time": "2021-10-09T20:52:55.750772Z",
     "start_time": "2021-10-09T20:52:55.735182Z"
    }
   },
   "outputs": [],
   "source": [
    "# descricao\n",
    "data['props']['pageProps']['jobSearch']['jobSearchResult']['data']['jobs'][1]['job_customized_data']['descricao']"
   ]
  },
  {
   "cell_type": "code",
   "execution_count": null,
   "id": "a9d0f473",
   "metadata": {
    "ExecuteTime": {
     "end_time": "2021-10-09T20:53:31.574455Z",
     "start_time": "2021-10-09T20:53:31.559413Z"
    }
   },
   "outputs": [],
   "source": [
    "# titulo\n",
    "data['props']['pageProps']['jobSearch']['jobSearchResult']['data']['jobs'][4]['job_customized_data']['titulo']"
   ]
  },
  {
   "cell_type": "code",
   "execution_count": null,
   "id": "f53e2acc",
   "metadata": {
    "ExecuteTime": {
     "end_time": "2021-10-09T20:53:34.466963Z",
     "start_time": "2021-10-09T20:53:34.450054Z"
    }
   },
   "outputs": [],
   "source": [
    "# descricao\n",
    "data['props']['pageProps']['jobSearch']['jobSearchResult']['data']['jobs'][4]['job_customized_data']['descricao']"
   ]
  },
  {
   "cell_type": "markdown",
   "id": "491d9523",
   "metadata": {},
   "source": [
    "## DATA"
   ]
  },
  {
   "cell_type": "code",
   "execution_count": null,
   "id": "eb738246",
   "metadata": {},
   "outputs": [],
   "source": [
    "for t in range(0, 5):\n",
    "    titulo.append(data['props']['pageProps']['jobSearch']['jobSearchResult']['data']['jobs'][t]['job_customized_data']['titulo'])"
   ]
  },
  {
   "cell_type": "code",
   "execution_count": null,
   "id": "37effcf3",
   "metadata": {},
   "outputs": [],
   "source": [
    "for d in range(0, 5):\n",
    "    descricao.append(data['props']['pageProps']['jobSearch']['jobSearchResult']['data']['jobs'][d]['job_customized_data']['descricao'])"
   ]
  },
  {
   "cell_type": "code",
   "execution_count": null,
   "id": "51dd8ad0",
   "metadata": {},
   "outputs": [],
   "source": [
    "titulo = pd.DataFrame(titulo)\n",
    "descricao = pd.DataFrame(descricao)\n",
    "\n",
    "df = titulo.merge(descricao, left_index = True, right_index = True)\n",
    "\n",
    "df"
   ]
  },
  {
   "cell_type": "markdown",
   "id": "6b0b2d5c",
   "metadata": {},
   "source": [
    "## TOP 50 PAGES"
   ]
  },
  {
   "cell_type": "code",
   "execution_count": null,
   "id": "cd075068",
   "metadata": {
    "ExecuteTime": {
     "end_time": "2021-10-09T22:09:00.010435Z",
     "start_time": "2021-10-09T22:08:15.115092Z"
    }
   },
   "outputs": [],
   "source": [
    "titulo = []\n",
    "descricao = []\n",
    "\n",
    "for i in range(1, 50):\n",
    "    \n",
    "    response =  '' + str(i)\n",
    "    headers = {'User-Agent': 'Mozilla/5.0 (Windows NT 10.0; Win64; x64) AppleWebKit/537.36 (KHTML, like Gecko) Chrome/76.0.3809.100 Safari/537.36'}\n",
    "\n",
    "    req = Request(response, headers = headers)\n",
    "    page = urlopen(req)\n",
    "    soup = BeautifulSoup(page)\n",
    "\n",
    "    data = json.loads(soup.find('script', type='application/json').text)\n",
    "    \n",
    "    for t in range(0, 10):\n",
    "        titulo.append(data['props']['pageProps']['jobSearch']['jobSearchResult']['data']['jobs'][t]['job_customized_data']['titulo'])\n",
    "        \n",
    "    for d in range(0, 10):\n",
    "        descricao.append(data['props']['pageProps']['jobSearch']['jobSearchResult']['data']['jobs'][d]['job_customized_data']['descricao'])\n",
    "        \n",
    "    \n",
    "    "
   ]
  },
  {
   "cell_type": "code",
   "execution_count": null,
   "id": "1dc0cfb9",
   "metadata": {
    "ExecuteTime": {
     "end_time": "2021-10-09T21:41:44.853411Z",
     "start_time": "2021-10-09T21:41:44.830297Z"
    }
   },
   "outputs": [],
   "source": [
    "titulo"
   ]
  },
  {
   "cell_type": "code",
   "execution_count": null,
   "id": "b79d5035",
   "metadata": {
    "ExecuteTime": {
     "end_time": "2021-10-09T21:41:49.087029Z",
     "start_time": "2021-10-09T21:41:49.054182Z"
    }
   },
   "outputs": [],
   "source": [
    "descricao"
   ]
  },
  {
   "cell_type": "code",
   "execution_count": null,
   "id": "95893bb6",
   "metadata": {
    "ExecuteTime": {
     "end_time": "2021-10-09T22:09:00.027678Z",
     "start_time": "2021-10-09T22:09:00.013891Z"
    }
   },
   "outputs": [],
   "source": [
    "titulo = pd.DataFrame(titulo)\n",
    "descricao = pd.DataFrame(descricao)\n",
    "\n",
    "df = titulo.merge(descricao, left_index = True, right_index = True)"
   ]
  },
  {
   "cell_type": "code",
   "execution_count": null,
   "id": "15e178f9",
   "metadata": {
    "ExecuteTime": {
     "end_time": "2021-10-09T22:09:27.577530Z",
     "start_time": "2021-10-09T22:09:27.567973Z"
    }
   },
   "outputs": [],
   "source": [
    "cols = ['titulo_vaga', 'descricao_vaga']\n",
    "df.columns = cols\n",
    "\n",
    "df.head()"
   ]
  }
 ],
 "metadata": {
  "kernelspec": {
   "display_name": "ds-projects",
   "language": "python",
   "name": "ds-projects"
  },
  "language_info": {
   "codemirror_mode": {
    "name": "ipython",
    "version": 3
   },
   "file_extension": ".py",
   "mimetype": "text/x-python",
   "name": "python",
   "nbconvert_exporter": "python",
   "pygments_lexer": "ipython3",
   "version": "3.9.7"
  },
  "toc": {
   "base_numbering": 1,
   "nav_menu": {},
   "number_sections": true,
   "sideBar": true,
   "skip_h1_title": false,
   "title_cell": "Table of Contents",
   "title_sidebar": "Contents",
   "toc_cell": false,
   "toc_position": {},
   "toc_section_display": true,
   "toc_window_display": false
  }
 },
 "nbformat": 4,
 "nbformat_minor": 5
}
